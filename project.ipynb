{
 "cells": [
  {
   "cell_type": "markdown",
   "id": "707f4afa-2154-4cf0-ba97-47043c04b4f6",
   "metadata": {},
   "source": [
    "# Homework 1"
   ]
  },
  {
   "cell_type": "markdown",
   "id": "6ffbf2ca-c707-40a7-b143-fa07b6585931",
   "metadata": {},
   "source": [
    "## Task 1 - Wordle"
   ]
  },
  {
   "cell_type": "markdown",
   "id": "c7a799e9-096c-490c-8f14-3904b033e3f2",
   "metadata": {},
   "source": [
    "*To clone the wordle puzzle game, the \"puzzle_solver\" function is defined to return the results of guessing within six rounds. To compare the guess results and prevent unintentional modification, a new word list is created at the beginning by copying the original wordle text. The correctness and index information are detected by the color of returning puzzle object. If it is green, the words containing that appropriate guess will be picked out； If yellow, it will be the words with the dismatched alphabet；The rest will be the grey one, after checking the possible duplication cases by sum of letters, it will be filtered out from the words list. Then, we will give a point to each word by checking whether it has the most frequent character in each column, and finally the optimal solution will be returned*"
   ]
  },
  {
   "cell_type": "code",
   "execution_count": 1,
   "id": "76eda350-5e5c-4b5c-9934-d85b5027048f",
   "metadata": {},
   "outputs": [],
   "source": [
    "import pandas as pd\n",
    "import numpy as np\n",
    "import wordle"
   ]
  },
  {
   "cell_type": "code",
   "execution_count": 2,
   "id": "d2075522-3863-416a-85d4-3a08c1e00ee9",
   "metadata": {},
   "outputs": [],
   "source": [
    "# create a dataframe for wordle word list\n",
    "df = pd.read_csv(\"data/wordle.txt\", sep=\" \", header=None, names=[\"word\"])\n",
    "df[[\"rm1\",\"char1\",\"char2\",\"char3\",\"char4\",\"char5\",\"rm2\"]] = df[\"word\"].str.split('',expand=True)\n",
    "df.drop(['word','rm1', 'rm2'], axis=1, inplace=True)\n",
    "\n",
    "def puzzle_solver(p):\n",
    "    \"\"\"\n",
    "    Solve the Wordle puzzle\n",
    "\n",
    "    -------\n",
    "    p:\n",
    "        the results of guessing\n",
    "    \"\"\"\n",
    "    word_list = df.copy()\n",
    "    word = \"crane\"            # start with \"crane\"\n",
    "    for i in range(0,6):\n",
    "        res = p.guess(word)\n",
    "        if p.is_solved()==True:\n",
    "            return p\n",
    "        green_index = []\n",
    "        green_char = []\n",
    "        yellow_index = []\n",
    "        grey_index = []\n",
    "        yellow_char = []\n",
    "        grey_char = []\n",
    "        #color detection\n",
    "        for i in range(0,5):       #for each character\n",
    "            if res[i]==u\"\\U0001F7E9\":         # \"U0001F7E9\": green\n",
    "                green_char.append(word[i])\n",
    "                green_index.append(i)\n",
    "            elif res[i] == u\"\\U0001F7E8\":     # \"U0001F7E8\": yellow\n",
    "                yellow_char.append(word[i])\n",
    "                yellow_index.append(i)\n",
    "            else:\n",
    "                grey_char.append(word[i])\n",
    "                grey_index.append(i)\n",
    "\n",
    "        # filter by green        \n",
    "        for green in range(0,len(green_index)):\n",
    "            g_index = green_index[green]\n",
    "            g_char = green_char[green]\n",
    "            word_list = word_list[word_list.iloc[:,g_index]==g_char] \n",
    "           \n",
    "        # filter by yellow   \n",
    "        for y in range(0,len(yellow_char)):\n",
    "            y_index = yellow_index[y]    \n",
    "            y_char = yellow_char[y]\n",
    "            word_list = word_list[word_list.iloc[:,y_index]!=y_char]   # with the correct letter but wrong position\n",
    "            # check how many yellow letters in each word\n",
    "            sum_row = word_list.iloc[:,yellow_index+grey_index].apply(lambda row: row==y_char).sum(axis=1)   \n",
    "            occur = yellow_char.count(y_char)\n",
    "            word_list = word_list[list(sum_row>=occur)]\n",
    "\n",
    "        # filter by grey\n",
    "        for g in range(0,len(grey_char)):\n",
    "            g_char = grey_char[g]\n",
    "            sum_row = word_list.iloc[:,yellow_index+grey_index].apply(lambda row: row==g_char).sum(axis=1)\n",
    "            # check the duplication case for grey and yellow \n",
    "            if g_char not in yellow_char: \n",
    "                word_list = word_list[list(sum_row==0)]\n",
    "            else:\n",
    "                y_count = yellow_char.count(g_char)   \n",
    "                word_list = word_list[list(sum_row==y_count)]\n",
    "                \n",
    "        mode_char = list(word_list.mode().iloc[0])\n",
    "        total_point = [0]*len(word_list.index)\n",
    "        \n",
    "        # find out the optimal solution by most frequent char in each column\n",
    "        for i in range(0,len(mode_char)):\n",
    "            point = list(word_list.iloc[:,i]==mode_char[i])\n",
    "            total_point = [x+y for x,y in zip(point,total_point)]\n",
    "        rec_index = total_point.index(max(total_point))\n",
    "        word = ''.join(word_list.iloc[rec_index])\n",
    "    return p"
   ]
  },
  {
   "cell_type": "markdown",
   "id": "b02cc670-41c3-4181-b774-9742f87f7bf5",
   "metadata": {},
   "source": [
    "### Assessment"
   ]
  },
  {
   "cell_type": "code",
   "execution_count": 3,
   "id": "08356bed-aaa9-4feb-8e4e-9eab901df110",
   "metadata": {
    "tags": []
   },
   "outputs": [
    {
     "name": "stdout",
     "output_type": "stream",
     "text": [
      "Solved 183 of 200 puzzles attempted.\n",
      "Average # of guesses required: 4.420765027322404\n"
     ]
    }
   ],
   "source": [
    "import random\n",
    "random.seed(1234)\n",
    "n = 200\n",
    "\n",
    "# Change both the seed value and `n` of puzzles to get \n",
    "# a more accurate view of your solver's performance.\n",
    "\n",
    "puzzles  = [wordle.puzzle() for i in range(n)]\n",
    "attempts = [puzzle_solver(p) for p in puzzles]\n",
    "solved   = [p for p in puzzles if p.is_solved()]\n",
    "n_guess  = [p.n_guesses() for p in solved]\n",
    "\n",
    "print(f\"Solved {len(solved)} of {len(puzzles)} puzzles attempted.\")\n",
    "if (len(solved) != 0):\n",
    "    print(f\"Average # of guesses required: {sum(n_guess)/len(n_guess)}\")                         "
   ]
  },
  {
   "cell_type": "markdown",
   "id": "32c885fe-2eeb-4e2a-a6db-27e5a8e79b75",
   "metadata": {
    "tags": []
   },
   "source": [
    "## Task 2"
   ]
  },
  {
   "cell_type": "markdown",
   "id": "4e2b35a6-50c5-4cb2-975e-ea4a5f79c966",
   "metadata": {},
   "source": [
    "*Advent_step is used for updating the next step of the matrix, and advent_solve is used for counting the steps to reach the steady step. Due to the python list nature, we use deep copy in this case.<br><br>Advent_step: Since the matrix moving contains special case, we first check the special case. The special case is that ‘>’ is the last element of the last column and ‘.’ is the first element in the same row. In this case, we make the first element ‘>’ and the current element ‘.’. In the normal case, we check whether the right next element is ‘.’. If the right next element is ‘.’, which means we can move the matrix, so the right next element become ‘>’ and current element become ‘.’. If the right next element is ‘>’, then we cannot move ‘>’. The same logic follows for ‘v’ case.<br><br>Advent_solve: We are counting the total step to reach the steady state. We check by using current_step != next_step, if not then it means the matrix is moving and we add counts. If current_step == next_step, then it means the matrix cannot move anymore and reach steady state.*"
   ]
  },
  {
   "cell_type": "code",
   "execution_count": 4,
   "id": "3bfc88ed-dee0-4ffb-affa-361225ad1904",
   "metadata": {},
   "outputs": [],
   "source": [
    "import advent\n",
    "from copy import deepcopy"
   ]
  },
  {
   "cell_type": "code",
   "execution_count": 5,
   "id": "d6bc9d3f-90a9-416a-8c83-a8c30fcf64bd",
   "metadata": {
    "jupyter": {
     "source_hidden": true
    },
    "tags": []
   },
   "outputs": [],
   "source": [
    "def advent_step(state):\n",
    "    \"\"\"\n",
    "    Include a docstring\n",
    "    \n",
    "    This function that iterates this system(a matrix which is composed of the character values:'.','>' and'v') \n",
    "    until it reaches final steady state\n",
    "    \n",
    "    state(list):a matrix which is composed of the character values: “.”, “>”, and “v”\n",
    "    \n",
    "    next_step(list): a copy matrix to perform right moves and down moves\n",
    "\n",
    "    \"\"\"\n",
    "\n",
    "    # make a copy at first to avoid overwrite the original state\n",
    "    # deepcopy\n",
    "    next_step = deepcopy(state)\n",
    "\n",
    "    # loop matrix row\n",
    "    for i in range(len(state)):\n",
    "        # loop matrix column\n",
    "        for j in range(len(state[0])):\n",
    "            if state[i][j] == '>':\n",
    "                # special case: check if '>' is the last element\n",
    "                if j == len(state[0]) - 1:\n",
    "                    # special case: check if '.' is the first element\n",
    "                    if state[i][0] == '.':\n",
    "                        next_step[i][0] = '>'\n",
    "                        next_step[i][j] = '.'\n",
    "                # normal case\n",
    "                elif state[i][j+1] == '.':\n",
    "                    next_step[i][j+1] = '>'\n",
    "                    next_step[i][j] = '.'\n",
    "    \n",
    "    state = deepcopy(next_step)\n",
    "\n",
    "    # loop matrix row\n",
    "    for i in range(len(state)):\n",
    "        # loop matrix column\n",
    "        for j in range(len(state[0])):\n",
    "            if state[i][j] == 'v':\n",
    "                # special case: check if 'v' is the last element\n",
    "                if i == len(state) - 1:\n",
    "                    # special case: check if '.' is the first element\n",
    "                    if state[0][j] == '.':\n",
    "                        next_step[0][j] = 'v'\n",
    "                        next_step[i][j] = '.'\n",
    "                # normal case\n",
    "                elif state[i+1][j] == '.':\n",
    "                    next_step[i+1][j] = 'v'\n",
    "                    next_step[i][j] = '.'\n",
    "\n",
    "    return next_step"
   ]
  },
  {
   "cell_type": "code",
   "execution_count": 6,
   "id": "0a6e7c1c-4c27-4c17-ac60-e9b4e44e2ad9",
   "metadata": {
    "tags": []
   },
   "outputs": [],
   "source": [
    "def advent_solve(state):\n",
    "    \"\"\"\n",
    "    Include a docstring\n",
    "    \n",
    "    state (list): a matrix which is composed of the character values: “.”, “>”, and “v”\n",
    "    \n",
    "    count (int): the steps used to evolve state into a steady matrix\n",
    "    \"\"\"\n",
    "    # initial step\n",
    "    current_step = deepcopy(state)\n",
    "    next_step = advent_step(current_step)\n",
    "    count = 1\n",
    "\n",
    "    # keep running till converge\n",
    "    while next_step != current_step:\n",
    "        current_step = deepcopy(next_step)\n",
    "        next_step = advent_step(current_step)\n",
    "        count = count + 1\n",
    "    \n",
    "    return count"
   ]
  },
  {
   "cell_type": "code",
   "execution_count": 7,
   "id": "aeac61c4-0361-4a73-8e3b-8571735e6cca",
   "metadata": {},
   "outputs": [],
   "source": [
    "# Check that the implementation above returns the correct results\n",
    "assert advent_solve(advent.small) == 58\n",
    "assert advent_solve(advent.large) == 351"
   ]
  },
  {
   "cell_type": "markdown",
   "id": "2b2385d1-fa48-4e17-8761-0af06c15c33f",
   "metadata": {},
   "source": [
    "## Task 3"
   ]
  },
  {
   "cell_type": "markdown",
   "id": "11e1445d-5090-4036-ba1f-a84af303c028",
   "metadata": {},
   "source": [
    "*In this question, we also have two functions, advent_step_np follows the same logic as advent_step in task 2.<br>Advent_solve_np follows the same logic as advent_solve in task 2. Since we are using np in this task, the simple copy is sufficient.*"
   ]
  },
  {
   "cell_type": "code",
   "execution_count": 8,
   "id": "61184a5d-26ae-471e-ab6e-e61ca889e247",
   "metadata": {},
   "outputs": [],
   "source": [
    "import advent\n",
    "import numpy as np"
   ]
  },
  {
   "cell_type": "code",
   "execution_count": 9,
   "id": "db36c253-2eee-4677-b010-f34c085f3738",
   "metadata": {},
   "outputs": [],
   "source": [
    "def advent_step_np(state):\n",
    "    \"\"\"\n",
    "    Include a docstring\n",
    "    This function that iterates this system(a matrix which is composed of the character values:'.','>' and'v') \n",
    "    until it reaches final steady state\n",
    "    \n",
    "    state(list):a matrix which is composed of the character values: “.”, “>”, and “v”\n",
    "    \n",
    "    next_step(list): a copy matrix to perform right moves and down moves\n",
    "    \"\"\"\n",
    "    # make a copy at first to avoid overwrite the original state\n",
    "    # copy \n",
    "    next_step = state.copy()\n",
    "    \n",
    "    # loop over row\n",
    "    for i in range(len(state)):\n",
    "        # loop over column\n",
    "        for j in range(len(state[0])):\n",
    "            if state[i][j] == '>':\n",
    "                # special case: check if '>' is the last element\n",
    "                if j == len(state[0]) - 1:\n",
    "                    # special case: check if '.' is the first element\n",
    "                    if state[i][0] == '.':\n",
    "                        next_step[i][0] = '>'\n",
    "                        next_step[i][j] = '.'\n",
    "                # normal case\n",
    "                elif state[i][j+1] == '.':\n",
    "                    next_step[i][j+1] = '>'\n",
    "                    next_step[i][j] = '.'\n",
    "    \n",
    "    state = next_step.copy()\n",
    "\n",
    "    for i in range(len(state)):\n",
    "        for j in range(len(state[0])):\n",
    "            if state[i][j] == 'v':\n",
    "                # special case check if 'v' is the last element and '.' is the first element\n",
    "                if i == len(state) - 1:\n",
    "                    if state[0][j] == '.':\n",
    "                        next_step[0][j] = 'v'\n",
    "                        next_step[i][j] = '.'\n",
    "                # normal case\n",
    "                elif state[i+1][j] == '.':\n",
    "                    next_step[i+1][j] = 'v'\n",
    "                    next_step[i][j] = '.'\n",
    "\n",
    "    return next_step"
   ]
  },
  {
   "cell_type": "code",
   "execution_count": 10,
   "id": "f538d3bc-d9fd-4eb8-98c0-f37a1e53c7bb",
   "metadata": {},
   "outputs": [],
   "source": [
    "def advent_solve_np(state):\n",
    "    \"\"\"\n",
    "    Include a docstring\n",
    "    \n",
    "    state (list): a matrix which is composed of the character values: “.”, “>”, and “v”\n",
    "    \n",
    "    count (int): the steps used to evolve state into a steady matrix\n",
    "    \"\"\"\n",
    "    # initial step\n",
    "    current_step = state.copy()\n",
    "    next_step = advent_step(current_step)\n",
    "    count = 1\n",
    "\n",
    "    # keep running until converge\n",
    "    while not np.array_equal(current_step, next_step):\n",
    "        current_step = next_step.copy()\n",
    "        next_step = advent_step(current_step)\n",
    "        count = count + 1\n",
    "    \n",
    "    return count"
   ]
  },
  {
   "cell_type": "code",
   "execution_count": 11,
   "id": "5b7933a9-1955-4fc0-bad7-da15d5e69a95",
   "metadata": {},
   "outputs": [],
   "source": [
    "# Check that the implementation above returns the correct results\n",
    "assert advent_solve_np(advent.small_np) == 58\n",
    "assert advent_solve_np(advent.large_np) == 351"
   ]
  },
  {
   "cell_type": "markdown",
   "id": "85877e11-24fc-4907-a914-51ad1a419653",
   "metadata": {},
   "source": [
    "### Performance"
   ]
  },
  {
   "cell_type": "code",
   "execution_count": 12,
   "id": "39dd8660-8447-4d42-a191-385133984d67",
   "metadata": {},
   "outputs": [
    {
     "name": "stdout",
     "output_type": "stream",
     "text": [
      "8.96 s ± 66.3 ms per loop (mean ± std. dev. of 3 runs, 1 loop each)\n"
     ]
    }
   ],
   "source": [
    "%timeit -r 3 advent_solve(advent.large)"
   ]
  },
  {
   "cell_type": "code",
   "execution_count": 13,
   "id": "4cbc3b8b-4391-48e0-b31f-79d4217d7211",
   "metadata": {},
   "outputs": [
    {
     "name": "stdout",
     "output_type": "stream",
     "text": [
      "8.07 s ± 12.8 ms per loop (mean ± std. dev. of 3 runs, 1 loop each)\n"
     ]
    }
   ],
   "source": [
    "%timeit -r 3 advent_solve_np(advent.large)"
   ]
  },
  {
   "cell_type": "markdown",
   "id": "75d36e5b-5bd2-4b1f-ba43-21013a6350a0",
   "metadata": {},
   "source": [
    "*Discuss: which implementation was faster? Explain why you think this is?*"
   ]
  },
  {
   "cell_type": "markdown",
   "id": "33f9bb35-eeff-44d9-83d2-dfded7b916dc",
   "metadata": {
    "tags": []
   },
   "source": [
    "*In our implementation, the numpy version is around 1 second faster.<br>1. In the normal version, we use deep_copy to copy python list of list list but in numpy version we only use copy. Copy is faster and memory saving method in python.<br>2. Data in Numpy nd-array has homogeneous data type while python list can contain heterogeneous data type. It is possible that in the default setting, homogeneous data type computation is faster than heterogeneous data type.*"
   ]
  }
 ],
 "metadata": {
  "kernelspec": {
   "display_name": "Python 3 (ipykernel)",
   "language": "python",
   "name": "python3"
  },
  "language_info": {
   "codemirror_mode": {
    "name": "ipython",
    "version": 3
   },
   "file_extension": ".py",
   "mimetype": "text/x-python",
   "name": "python",
   "nbconvert_exporter": "python",
   "pygments_lexer": "ipython3",
   "version": "3.10.9"
  }
 },
 "nbformat": 4,
 "nbformat_minor": 5
}
